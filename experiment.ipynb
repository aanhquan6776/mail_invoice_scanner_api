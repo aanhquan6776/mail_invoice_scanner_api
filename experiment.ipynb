{
 "cells": [
  {
   "cell_type": "code",
   "execution_count": 1,
   "metadata": {},
   "outputs": [],
   "source": [
    "import re"
   ]
  },
  {
   "cell_type": "code",
   "execution_count": 2,
   "metadata": {},
   "outputs": [],
   "source": [
    "def get_text(filepath):\n",
    "    \"\"\"\n",
    "        get the text from input file\n",
    "    \"\"\"\n",
    "    text = \"\"\n",
    "    with open(filepath, \"r\", encoding ='utf-8') as inputfile:\n",
    "        for line in inputfile:\n",
    "            text = text + line\n",
    "    return text\n",
    "\n",
    "\n",
    "def find_text_begin_with_keyword(text, begin_keyword):\n",
    "    found = re.search(begin_keyword, text)\n",
    "    if found:\n",
    "        return text[found.start():], found.start()\n",
    "    else:\n",
    "        return None\n",
    "\n",
    "\n",
    "def find_last_text_begin_with_keyword(text, begin_keyword):\n",
    "    begin = -1\n",
    "    pivot = 0\n",
    "    \n",
    "    while True:\n",
    "        found = find_text_begin_with_keyword(text[pivot:], begin_keyword)\n",
    "        if found:\n",
    "            begin = pivot + found[1]\n",
    "            pivot = begin + len(begin_keyword)\n",
    "        else:\n",
    "            break\n",
    "               \n",
    "    if begin>=0:\n",
    "        return text[begin:], begin\n",
    "    else:\n",
    "        return None\n",
    "\n",
    "\n",
    "def find_last_text_begin_with_keyword_and_match_regex(text, begin_keyword, check_regex):\n",
    "    begin = -1\n",
    "    pivot = 0\n",
    "    \n",
    "    while True:\n",
    "        found = find_text_begin_with_keyword(text[pivot:], begin_keyword)\n",
    "        if found and re.match(check_regex, found[0]):\n",
    "            begin = pivot + found[1]\n",
    "            pivot = begin + len(begin_keyword)\n",
    "        else:\n",
    "            break\n",
    "               \n",
    "    if begin>=0:\n",
    "        return text[begin:], begin\n",
    "    else:\n",
    "        return None\n",
    "\n",
    "\n",
    "def cut_top_of_the_email(text):\n",
    "    begin_keyword = \"From:|Từ:\"\n",
    "    check_regex = r\"(From:|Từ:).+[@].+(Date:|Ngày:)\"\n",
    "    data_found = find_last_text_begin_with_keyword_and_match_regex(text, begin_keyword, check_regex)\n",
    "    if data_found:\n",
    "        return data_found[0]\n",
    "    else:\n",
    "        return \"\"\n",
    "\n",
    "\n",
    "def truncate_the_email(text):\n",
    "    \"\"\"\n",
    "        get rid of the unnecessary text\n",
    "    \"\"\"\n",
    "    result = text\n",
    "    result = cut_top(result)\n",
    "    return result\n",
    "\n",
    "\n",
    "def extract_from_email_bodytext(inputfile):\n",
    "    text = get_text(inputfile)\n",
    "    text = truncate(text)\n",
    "    \n",
    "    return text"
   ]
  },
  {
   "cell_type": "code",
   "execution_count": 3,
   "metadata": {},
   "outputs": [
    {
     "ename": "NameError",
     "evalue": "name 'truncate' is not defined",
     "output_type": "error",
     "traceback": [
      "\u001b[0;31m---------------------------------------------------------------------------\u001b[0m",
      "\u001b[0;31mNameError\u001b[0m                                 Traceback (most recent call last)",
      "\u001b[0;32m<ipython-input-3-1d4c39de2587>\u001b[0m in \u001b[0;36m<module>\u001b[0;34m\u001b[0m\n\u001b[1;32m      1\u001b[0m \u001b[0minputfile\u001b[0m \u001b[0;34m=\u001b[0m \u001b[0;34m\"bodytext/1.txt\"\u001b[0m\u001b[0;34m\u001b[0m\u001b[0;34m\u001b[0m\u001b[0m\n\u001b[0;32m----> 2\u001b[0;31m \u001b[0mprint\u001b[0m\u001b[0;34m(\u001b[0m\u001b[0mextract_from_email_bodytext\u001b[0m\u001b[0;34m(\u001b[0m\u001b[0minputfile\u001b[0m\u001b[0;34m)\u001b[0m\u001b[0;34m)\u001b[0m\u001b[0;34m\u001b[0m\u001b[0;34m\u001b[0m\u001b[0m\n\u001b[0m",
      "\u001b[0;32m<ipython-input-2-50e237961393>\u001b[0m in \u001b[0;36mextract_from_email_bodytext\u001b[0;34m(inputfile)\u001b[0m\n\u001b[1;32m     75\u001b[0m \u001b[0;32mdef\u001b[0m \u001b[0mextract_from_email_bodytext\u001b[0m\u001b[0;34m(\u001b[0m\u001b[0minputfile\u001b[0m\u001b[0;34m)\u001b[0m\u001b[0;34m:\u001b[0m\u001b[0;34m\u001b[0m\u001b[0;34m\u001b[0m\u001b[0m\n\u001b[1;32m     76\u001b[0m     \u001b[0mtext\u001b[0m \u001b[0;34m=\u001b[0m \u001b[0mget_text\u001b[0m\u001b[0;34m(\u001b[0m\u001b[0minputfile\u001b[0m\u001b[0;34m)\u001b[0m\u001b[0;34m\u001b[0m\u001b[0;34m\u001b[0m\u001b[0m\n\u001b[0;32m---> 77\u001b[0;31m     \u001b[0mtext\u001b[0m \u001b[0;34m=\u001b[0m \u001b[0mtruncate\u001b[0m\u001b[0;34m(\u001b[0m\u001b[0mtext\u001b[0m\u001b[0;34m)\u001b[0m\u001b[0;34m\u001b[0m\u001b[0;34m\u001b[0m\u001b[0m\n\u001b[0m\u001b[1;32m     78\u001b[0m \u001b[0;34m\u001b[0m\u001b[0m\n\u001b[1;32m     79\u001b[0m     \u001b[0;32mreturn\u001b[0m \u001b[0mtext\u001b[0m\u001b[0;34m\u001b[0m\u001b[0;34m\u001b[0m\u001b[0m\n",
      "\u001b[0;31mNameError\u001b[0m: name 'truncate' is not defined"
     ]
    }
   ],
   "source": [
    "inputfile = \"bodytext/1.txt\"\n",
    "print(extract_from_email_bodytext(inputfile))"
   ]
  },
  {
   "cell_type": "code",
   "execution_count": null,
   "metadata": {},
   "outputs": [],
   "source": [
    "# def preprocess_and_split_datestring(datestring):\n",
    "#     result = []\n",
    "#     datestring = datestring.replace(\",\", \"\")\n",
    "#     result = datestring.split()\n",
    "#     return result\n",
    "\n",
    "\n",
    "# def is_eng_date(datestring):\n",
    "#     weekday_dict = ['Mon', 'Tue', 'Wed', 'Thu', 'Fri', 'Sat', 'Sun']\n",
    "#     return datestring[:3] in weekday_dict\n",
    "\n",
    "\n",
    "# def is_vie_date(datestring):\n",
    "#     pass\n",
    "\n",
    "\n",
    "# def extract_eng_date(datestring):\n",
    "#     \"\"\"\n",
    "#         get the day, month, year in the english datestring\n",
    "#     \"\"\"\n",
    "        \n",
    "#     month_dict = {'Jan':'01', 'Feb':'02', 'Mar':'03', 'Apr':'04', 'May':'05', 'Jun':'06', \\\n",
    "#                   'Jul':'07', 'Aug':'08', 'Sep':'09', 'Oct':'10', 'Nov':'11', 'Dec':'12'}\n",
    "#     tokens = preprocess_and_split_datestring(datestring)\n",
    "    \n",
    "#     year = ''\n",
    "#     month = ''\n",
    "#     day = ''\n",
    "    \n",
    "#     yearregex = r'(19|20)\\d{2}'\n",
    "#     dayregex = r'([12]\\d|3[01]|0?[1-9])'\n",
    "    \n",
    "#     for token in tokens:\n",
    "#         \"\"\"\n",
    "#             loop over all the integer in the string to check if it is day or month or year\n",
    "#         \"\"\"\n",
    "#         if (month=='') and (token in month_dict):\n",
    "#             month = month_dict[token]\n",
    "#         elif (day=='') and re.match(dayregex, token):\n",
    "#             day = token\n",
    "#         elif (year=='') and re.match(yearregex, token):\n",
    "#             year = token\n",
    "            \n",
    "#     if len(day)==1:\n",
    "#         day = '0' + day\n",
    "#     return day + '/' + month + '/' + year"
   ]
  },
  {
   "cell_type": "code",
   "execution_count": null,
   "metadata": {},
   "outputs": [],
   "source": [
    "print(re.search(\"From\", \"abcFromabc\").start())"
   ]
  },
  {
   "cell_type": "code",
   "execution_count": 26,
   "metadata": {},
   "outputs": [
    {
     "name": "stdout",
     "output_type": "stream",
     "text": [
      "<re.Match object; span=(3, 7), match='From'>\n"
     ]
    }
   ],
   "source": [
    "ok = True\n",
    "print(re.search(\"from\", \"abcFromabc\", flags = (re.IGNORECASE if ok else 0)))"
   ]
  },
  {
   "cell_type": "code",
   "execution_count": null,
   "metadata": {},
   "outputs": [],
   "source": []
  }
 ],
 "metadata": {
  "kernelspec": {
   "display_name": "Python 3",
   "language": "python",
   "name": "python3"
  },
  "language_info": {
   "codemirror_mode": {
    "name": "ipython",
    "version": 3
   },
   "file_extension": ".py",
   "mimetype": "text/x-python",
   "name": "python",
   "nbconvert_exporter": "python",
   "pygments_lexer": "ipython3",
   "version": "3.7.4"
  }
 },
 "nbformat": 4,
 "nbformat_minor": 2
}
